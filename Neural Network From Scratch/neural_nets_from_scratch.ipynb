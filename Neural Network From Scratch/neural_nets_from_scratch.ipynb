{
  "nbformat": 4,
  "nbformat_minor": 0,
  "metadata": {
    "colab": {
      "provenance": [],
      "authorship_tag": "ABX9TyOFb7QbibRR67b1BCx7psIB",
      "include_colab_link": true
    },
    "kernelspec": {
      "name": "python3",
      "display_name": "Python 3"
    },
    "language_info": {
      "name": "python"
    }
  },
  "cells": [
    {
      "cell_type": "markdown",
      "metadata": {
        "id": "view-in-github",
        "colab_type": "text"
      },
      "source": [
        "<a href=\"https://colab.research.google.com/github/heysourin/NLP-01/blob/main/Neural%20Network%20From%20Scratch/neural_nets_from_scratch.ipynb\" target=\"_parent\"><img src=\"https://colab.research.google.com/assets/colab-badge.svg\" alt=\"Open In Colab\"/></a>"
      ]
    },
    {
      "cell_type": "markdown",
      "source": [
        "## **Neural Network From Scratch**"
      ],
      "metadata": {
        "id": "f_hh8xrPI-AG"
      }
    },
    {
      "cell_type": "markdown",
      "source": [
        "**Single Neuron Architechtures**"
      ],
      "metadata": {
        "id": "P760OYm0JSc4"
      }
    },
    {
      "cell_type": "code",
      "execution_count": 80,
      "metadata": {
        "id": "PFLPFanvHQV-"
      },
      "outputs": [],
      "source": [
        "inputs = [1, 2, 3]\n",
        "weights = [0.2, 0.8, -0.5]\n",
        "bias = 2"
      ]
    },
    {
      "cell_type": "code",
      "source": [
        "output = (inputs[0] * weights[0] +\n",
        "          inputs[1] * weights[1] +\n",
        "          inputs[2] * weights[2] +\n",
        "          bias)\n",
        "output"
      ],
      "metadata": {
        "colab": {
          "base_uri": "https://localhost:8080/"
        },
        "id": "7qWAkde-Hez_",
        "outputId": "757dd7f6-95f2-429d-8dd6-3294c32629ae"
      },
      "execution_count": 81,
      "outputs": [
        {
          "output_type": "execute_result",
          "data": {
            "text/plain": [
              "2.3"
            ]
          },
          "metadata": {},
          "execution_count": 81
        }
      ]
    },
    {
      "cell_type": "markdown",
      "source": [
        "## **A Layer of Neural Networks**"
      ],
      "metadata": {
        "id": "hfd_wHa3MjZ0"
      }
    },
    {
      "cell_type": "markdown",
      "source": [
        "- 4 input 3 neuron architechture"
      ],
      "metadata": {
        "id": "7G6P5MsJMrMZ"
      }
    },
    {
      "cell_type": "code",
      "source": [
        "inputs = [1, 2, 3, 2.5]\n",
        "\n",
        "weights1 = [0.2, 0.8, -0.5, 1]\n",
        "weights2 = [0.5, -0.91, 0.26, -0.5]\n",
        "weights3 = [-0.26, -0.27, 0.17, 0.87]\n",
        "\n",
        "bias1 = 2\n",
        "bias2 = 3\n",
        "bias3 = 0.5"
      ],
      "metadata": {
        "id": "LNuveU3EH4OQ"
      },
      "execution_count": 82,
      "outputs": []
    },
    {
      "cell_type": "code",
      "source": [
        "outputs = [\n",
        "# Neuron 1:\n",
        "inputs[0]*weights1[0] +\n",
        "inputs[1]*weights1[1] +\n",
        "inputs[2]*weights1[2] +\n",
        "inputs[3]*weights1[3] + bias1,\n",
        "\n",
        "# Neuron 2:\n",
        "inputs[0]*weights2[0] +\n",
        "inputs[1]*weights2[1] +\n",
        "inputs[2]*weights2[2] +\n",
        "inputs[3]*weights2[3] + bias2,\n",
        "\n",
        "# Neuron 3:\n",
        "inputs[0]*weights3[0] +\n",
        "inputs[1]*weights3[1] +\n",
        "inputs[2]*weights3[2] +\n",
        "inputs[3]*weights3[3] + bias3]\n",
        "\n",
        "outputs\n",
        "# This process will be very hard when there is going to be a large number of neurons present in a layer, loop required."
      ],
      "metadata": {
        "colab": {
          "base_uri": "https://localhost:8080/"
        },
        "id": "rVnaCsDJL0B4",
        "outputId": "08eb85a5-6ca7-4fe4-e343-ef60c8ae3b59"
      },
      "execution_count": 83,
      "outputs": [
        {
          "output_type": "execute_result",
          "data": {
            "text/plain": [
              "[4.8, 1.21, 2.385]"
            ]
          },
          "metadata": {},
          "execution_count": 83
        }
      ]
    },
    {
      "cell_type": "code",
      "source": [
        "inputs = [1, 2, 3, 2.5]\n",
        "weights = [[0.2, 0.8, -0.5, 1],\n",
        "           [0.5, -0.91, 0.26, -0.5],\n",
        "           [-0.26, -0.27, 0.17, 0.87]]\n",
        "biases = [2, 3, 0.5]"
      ],
      "metadata": {
        "id": "zE_ufITVOO0R"
      },
      "execution_count": 84,
      "outputs": []
    },
    {
      "cell_type": "code",
      "source": [
        "layer_outputs = []\n",
        "\n",
        "for i in range(len(weights)):\n",
        "    neuron_output = 0\n",
        "    for j in range(len(inputs)):\n",
        "        neuron_output += inputs[j] * weights[i][j]\n",
        "    neuron_output += biases[i]\n",
        "    layer_outputs.append(neuron_output)\n",
        "\n",
        "print(layer_outputs)\n"
      ],
      "metadata": {
        "colab": {
          "base_uri": "https://localhost:8080/"
        },
        "id": "md-oUWgUOVMA",
        "outputId": "26ed05be-a225-4ad7-c5d1-4a9eed54405f"
      },
      "execution_count": 85,
      "outputs": [
        {
          "output_type": "stream",
          "name": "stdout",
          "text": [
            "[4.8, 1.21, 2.385]\n"
          ]
        }
      ]
    },
    {
      "cell_type": "markdown",
      "source": [
        "## **Desinging a 3 input and single layer 5 neuron Layer**"
      ],
      "metadata": {
        "id": "kxO-fry9bWOw"
      }
    },
    {
      "cell_type": "code",
      "source": [
        "inputs = [1, 2, 3]\n",
        "\n",
        "weights1 = [0.2, 0.8, -0.5]\n",
        "weights2 = [0.5, -0.91, 0.26]\n",
        "weights3 = [-0.26, 0.27, 0.87]\n",
        "weights4 = [-0.56, 0.1, 0.37]\n",
        "weights5 = [-0.16, -0.2, 0.89]\n",
        "\n",
        "bias1 = 2\n",
        "bias2 = 3\n",
        "bias3 = 0.5\n",
        "bias4 = 0.9\n",
        "bias5 = 0.87"
      ],
      "metadata": {
        "id": "XDGbGoirX4ax"
      },
      "execution_count": 86,
      "outputs": []
    },
    {
      "cell_type": "code",
      "source": [
        "outputs = [\n",
        "# Neuron 1:\n",
        "inputs[0]*weights1[0] +\n",
        "inputs[1]*weights1[1] +\n",
        "inputs[2]*weights1[2] + bias1,\n",
        "\n",
        "# Neuron 2:\n",
        "inputs[0]*weights2[0] +\n",
        "inputs[1]*weights2[1] +\n",
        "inputs[2]*weights2[2] + bias2,\n",
        "\n",
        "# Neuron 3:\n",
        "inputs[0]*weights3[0] +\n",
        "inputs[1]*weights3[1] +\n",
        "inputs[2]*weights3[2] + bias3,\n",
        "\n",
        "\n",
        "# Neuron 4:\n",
        "inputs[0]*weights4[0] +\n",
        "inputs[1]*weights4[1] +\n",
        "inputs[2]*weights4[2] + bias4,\n",
        "\n",
        "\n",
        "# Neuron 5:\n",
        "inputs[0]*weights5[0] +\n",
        "inputs[1]*weights5[1] +\n",
        "inputs[2]*weights5[2] + bias5\n",
        "]\n",
        "\n",
        "outputs"
      ],
      "metadata": {
        "colab": {
          "base_uri": "https://localhost:8080/"
        },
        "id": "TvsSO797YPwa",
        "outputId": "1a538e7b-5b94-40ae-b00b-ebac4c8c1004"
      },
      "execution_count": 87,
      "outputs": [
        {
          "output_type": "execute_result",
          "data": {
            "text/plain": [
              "[2.3, 2.46, 3.3899999999999997, 1.65, 2.98]"
            ]
          },
          "metadata": {},
          "execution_count": 87
        }
      ]
    },
    {
      "cell_type": "code",
      "source": [
        "inputs = [1, 2, 3]\n",
        "weights = [[0.2, 0.8, -0.5],\n",
        "           [0.5, -0.91, 0.26],\n",
        "           [-0.26, -0.27, 0.87],\n",
        "           [-0.56, 0.1, 0.37],\n",
        "           [-0.16, -0.2, 0.89]]\n",
        "biases = [2, 3, 0.5, 0.9, 0.87]"
      ],
      "metadata": {
        "id": "u8fQqmTJTSDy"
      },
      "execution_count": 88,
      "outputs": []
    },
    {
      "cell_type": "code",
      "source": [
        "hidden_layer_output = []\n",
        "for i in range(len(weights)):\n",
        "  neuron_output = 0\n",
        "  for j in range(len(inputs)):\n",
        "    neuron_output += inputs[j] * weights[i][j]\n",
        "  neuron_output += biases[i]\n",
        "  hidden_layer_output.append(neuron_output)\n",
        "\n",
        "print(hidden_layer_output)"
      ],
      "metadata": {
        "colab": {
          "base_uri": "https://localhost:8080/"
        },
        "id": "-thzF-PXaI-P",
        "outputId": "27814e23-703b-4245-a6c8-3c830342273a"
      },
      "execution_count": 89,
      "outputs": [
        {
          "output_type": "stream",
          "name": "stdout",
          "text": [
            "[2.3, 2.46, 2.3099999999999996, 1.65, 2.98]\n"
          ]
        }
      ]
    }
  ]
}