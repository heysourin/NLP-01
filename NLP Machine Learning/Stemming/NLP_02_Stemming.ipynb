{
  "nbformat": 4,
  "nbformat_minor": 0,
  "metadata": {
    "colab": {
      "provenance": [],
      "authorship_tag": "ABX9TyPZnvtFJyRVyGJiDqcy/2gl",
      "include_colab_link": true
    },
    "kernelspec": {
      "name": "python3",
      "display_name": "Python 3"
    },
    "language_info": {
      "name": "python"
    }
  },
  "cells": [
    {
      "cell_type": "markdown",
      "metadata": {
        "id": "view-in-github",
        "colab_type": "text"
      },
      "source": [
        "<a href=\"https://colab.research.google.com/github/heysourin/NLP-01/blob/main/Stemming/NLP_02_Stemming.ipynb\" target=\"_parent\"><img src=\"https://colab.research.google.com/assets/colab-badge.svg\" alt=\"Open In Colab\"/></a>"
      ]
    },
    {
      "cell_type": "code",
      "execution_count": 34,
      "metadata": {
        "id": "QuVx3SDDqeN7"
      },
      "outputs": [],
      "source": [
        "words=[\"eating\", \"eats\", \"eaten\", \"writing\", \"writes\", \"programming\", \"programs\", \"history\", \"finally\", \"finalized\"]"
      ]
    },
    {
      "cell_type": "markdown",
      "source": [
        "## **PorterStemmer**\n",
        "\n",
        "\n"
      ],
      "metadata": {
        "id": "-ou2x4ZIs1Zs"
      }
    },
    {
      "cell_type": "code",
      "source": [
        "from nltk.stem import PorterStemmer"
      ],
      "metadata": {
        "id": "1ERbQwa5sdXD"
      },
      "execution_count": 35,
      "outputs": []
    },
    {
      "cell_type": "code",
      "source": [
        "porterstemming = PorterStemmer()"
      ],
      "metadata": {
        "id": "PaEAdUUOslaF"
      },
      "execution_count": 36,
      "outputs": []
    },
    {
      "cell_type": "code",
      "source": [
        "for word in words:\n",
        "  print(word + \"----> \"+porterstemming.stem(word)) # notice \"history\" --> Major disadvantage of stemming"
      ],
      "metadata": {
        "colab": {
          "base_uri": "https://localhost:8080/"
        },
        "id": "TIdFt6Nxs4Em",
        "outputId": "cd4be89e-5f01-4d0d-a347-dcd555d4134e"
      },
      "execution_count": 37,
      "outputs": [
        {
          "output_type": "stream",
          "name": "stdout",
          "text": [
            "eating----> eat\n",
            "eats----> eat\n",
            "eaten----> eaten\n",
            "writing----> write\n",
            "writes----> write\n",
            "programming----> program\n",
            "programs----> program\n",
            "history----> histori\n",
            "finally----> final\n",
            "finalized----> final\n"
          ]
        }
      ]
    },
    {
      "cell_type": "code",
      "source": [
        "# Another example\n",
        "porterstemming.stem('congratulations')"
      ],
      "metadata": {
        "colab": {
          "base_uri": "https://localhost:8080/",
          "height": 36
        },
        "id": "1ved28NltDMP",
        "outputId": "c9982417-dd32-4b40-ba1c-39b59136c9ff"
      },
      "execution_count": 38,
      "outputs": [
        {
          "output_type": "execute_result",
          "data": {
            "text/plain": [
              "'congratul'"
            ],
            "application/vnd.google.colaboratory.intrinsic+json": {
              "type": "string"
            }
          },
          "metadata": {},
          "execution_count": 38
        }
      ]
    },
    {
      "cell_type": "markdown",
      "source": [
        "## **RegexpStemmer Class**\n",
        "- Takes regular expressiong and removes suffix and prefix that matches the expression."
      ],
      "metadata": {
        "id": "l8Szo-_Mt5uf"
      }
    },
    {
      "cell_type": "code",
      "source": [
        "from nltk.stem import RegexpStemmer"
      ],
      "metadata": {
        "id": "T_3XJW3ztoK4"
      },
      "execution_count": 39,
      "outputs": []
    },
    {
      "cell_type": "code",
      "source": [
        "reg_stemmer = RegexpStemmer('ing$|s$|e$|able$|lulu', min=4) # Removes ing, s, e, able from suffix and lulu from both suffix and prefix"
      ],
      "metadata": {
        "id": "IGOOYID3u31p"
      },
      "execution_count": 40,
      "outputs": []
    },
    {
      "cell_type": "code",
      "source": [
        "reg_stemmer.stem('eating')"
      ],
      "metadata": {
        "colab": {
          "base_uri": "https://localhost:8080/",
          "height": 36
        },
        "id": "96Yx8E8cu70z",
        "outputId": "563801b9-9bdc-4547-e2dc-c98d3688d8b8"
      },
      "execution_count": 41,
      "outputs": [
        {
          "output_type": "execute_result",
          "data": {
            "text/plain": [
              "'eat'"
            ],
            "application/vnd.google.colaboratory.intrinsic+json": {
              "type": "string"
            }
          },
          "metadata": {},
          "execution_count": 41
        }
      ]
    },
    {
      "cell_type": "code",
      "source": [
        "reg_stemmer.stem('ingeating')"
      ],
      "metadata": {
        "colab": {
          "base_uri": "https://localhost:8080/",
          "height": 36
        },
        "id": "SwQ5ZK7S_WBb",
        "outputId": "4960246c-7aee-46d6-e579-b0b8009ebf5a"
      },
      "execution_count": 42,
      "outputs": [
        {
          "output_type": "execute_result",
          "data": {
            "text/plain": [
              "'ingeat'"
            ],
            "application/vnd.google.colaboratory.intrinsic+json": {
              "type": "string"
            }
          },
          "metadata": {},
          "execution_count": 42
        }
      ]
    },
    {
      "cell_type": "code",
      "source": [
        "reg_stemmer.stem('lulueating')"
      ],
      "metadata": {
        "colab": {
          "base_uri": "https://localhost:8080/",
          "height": 36
        },
        "id": "2BL3Baoh_cyk",
        "outputId": "3f6d6f4d-64a2-4c64-fe59-a2b9f53369bf"
      },
      "execution_count": 43,
      "outputs": [
        {
          "output_type": "execute_result",
          "data": {
            "text/plain": [
              "'eat'"
            ],
            "application/vnd.google.colaboratory.intrinsic+json": {
              "type": "string"
            }
          },
          "metadata": {},
          "execution_count": 43
        }
      ]
    },
    {
      "cell_type": "markdown",
      "source": [
        "## **Snowball Stemmer**\n",
        "- Better than porter stemmer"
      ],
      "metadata": {
        "id": "YD8lQkj-AXjL"
      }
    },
    {
      "cell_type": "code",
      "source": [
        "from nltk.stem import SnowballStemmer"
      ],
      "metadata": {
        "id": "LqjOYk3t_hnV"
      },
      "execution_count": 44,
      "outputs": []
    },
    {
      "cell_type": "code",
      "source": [
        "snowballstemming = SnowballStemmer('english')"
      ],
      "metadata": {
        "id": "OAxGkP6WAjzO"
      },
      "execution_count": 45,
      "outputs": []
    },
    {
      "cell_type": "code",
      "source": [
        "for word in words:\n",
        "  print(word, \"---->\", snowballstemming.stem(word))"
      ],
      "metadata": {
        "colab": {
          "base_uri": "https://localhost:8080/"
        },
        "id": "Pv7yH4gpAooa",
        "outputId": "f02089a2-7136-412b-bcfc-c583582810ee"
      },
      "execution_count": 46,
      "outputs": [
        {
          "output_type": "stream",
          "name": "stdout",
          "text": [
            "eating ----> eat\n",
            "eats ----> eat\n",
            "eaten ----> eaten\n",
            "writing ----> write\n",
            "writes ----> write\n",
            "programming ----> program\n",
            "programs ----> program\n",
            "history ----> histori\n",
            "finally ----> final\n",
            "finalized ----> final\n"
          ]
        }
      ]
    },
    {
      "cell_type": "markdown",
      "source": [
        "### Comparing snowball stemmer and porter stemmer\n",
        "- snowball stemmer works a bit better way"
      ],
      "metadata": {
        "id": "lYJfxT2SA22e"
      }
    },
    {
      "cell_type": "code",
      "source": [
        "porterstemming.stem(\"fairly\"),porterstemming.stem(\"sportingly\")"
      ],
      "metadata": {
        "colab": {
          "base_uri": "https://localhost:8080/"
        },
        "id": "pMB5CmxEAwmj",
        "outputId": "fba12628-d672-43d7-8645-9c7c0b4727e4"
      },
      "execution_count": 48,
      "outputs": [
        {
          "output_type": "execute_result",
          "data": {
            "text/plain": [
              "('fairli', 'sportingli')"
            ]
          },
          "metadata": {},
          "execution_count": 48
        }
      ]
    },
    {
      "cell_type": "code",
      "source": [
        "snowballstemming.stem(\"fairly\"),snowballstemming.stem(\"sportingly\")"
      ],
      "metadata": {
        "colab": {
          "base_uri": "https://localhost:8080/"
        },
        "id": "01YQ8Y0fA2m7",
        "outputId": "4117448c-4c18-4ed9-81ef-4b6c3b409fb5"
      },
      "execution_count": 47,
      "outputs": [
        {
          "output_type": "execute_result",
          "data": {
            "text/plain": [
              "('fair', 'sport')"
            ]
          },
          "metadata": {},
          "execution_count": 47
        }
      ]
    },
    {
      "cell_type": "code",
      "source": [],
      "metadata": {
        "id": "Q9GzfgOOBR7a"
      },
      "execution_count": 48,
      "outputs": []
    },
    {
      "cell_type": "markdown",
      "source": [],
      "metadata": {
        "id": "-thAsSalBa4G"
      }
    }
  ]
}