{
  "nbformat": 4,
  "nbformat_minor": 0,
  "metadata": {
    "colab": {
      "provenance": [],
      "authorship_tag": "ABX9TyMKCyB08oOYM8ZBamAnCTvs",
      "include_colab_link": true
    },
    "kernelspec": {
      "name": "python3",
      "display_name": "Python 3"
    },
    "language_info": {
      "name": "python"
    }
  },
  "cells": [
    {
      "cell_type": "markdown",
      "metadata": {
        "id": "view-in-github",
        "colab_type": "text"
      },
      "source": [
        "<a href=\"https://colab.research.google.com/github/heysourin/NLP-01/blob/main/Lemmatization/NLP_Lemmatizer.ipynb\" target=\"_parent\"><img src=\"https://colab.research.google.com/assets/colab-badge.svg\" alt=\"Open In Colab\"/></a>"
      ]
    },
    {
      "cell_type": "markdown",
      "source": [
        "## **Wordnet Lemmatizer:**\n",
        "-\n",
        "Lemmatization technique is like stemming. The output we will get after lemmatization is called\n",
        "'lemma', which is a root word rather than root stem, the output of stemming. After lemmatization,\n",
        "we will be getting a valid word that means the same thing.\n",
        "- NLTK provides WordNetLemmatizer class which is a thin wrapper around the wordnet corpus. This\n",
        "class uses morphy() function to the WordNet CorpusReader class to find a lemma. Let us\n",
        "understand it with an example -"
      ],
      "metadata": {
        "id": "1jxXa7Qi8wQY"
      }
    },
    {
      "cell_type": "code",
      "execution_count": 4,
      "metadata": {
        "id": "j7CAEm_zCd1L",
        "colab": {
          "base_uri": "https://localhost:8080/"
        },
        "outputId": "ecdff23c-4be5-40bd-8203-0c4fca337d79"
      },
      "outputs": [
        {
          "output_type": "stream",
          "name": "stderr",
          "text": [
            "[nltk_data] Downloading package wordnet to /root/nltk_data...\n"
          ]
        }
      ],
      "source": [
        "import nltk\n",
        "nltk.download('wordnet')\n",
        "from nltk.stem import WordNetLemmatizer"
      ]
    },
    {
      "cell_type": "code",
      "source": [
        "lemmatizer = WordNetLemmatizer()"
      ],
      "metadata": {
        "id": "wm_4CyyHAN9h"
      },
      "execution_count": 5,
      "outputs": []
    },
    {
      "cell_type": "code",
      "source": [
        "'''\n",
        "POS- Noun-n\n",
        "verb-v\n",
        "adjective-a\n",
        "adverb-r\n",
        "'''\n",
        "lemmatizer.lemmatize(\"going\", pos='v')"
      ],
      "metadata": {
        "colab": {
          "base_uri": "https://localhost:8080/",
          "height": 36
        },
        "id": "feUrbQ9ZAQ35",
        "outputId": "64244f7e-4cd7-4031-ee9e-b5035227b2d4"
      },
      "execution_count": 8,
      "outputs": [
        {
          "output_type": "execute_result",
          "data": {
            "text/plain": [
              "'go'"
            ],
            "application/vnd.google.colaboratory.intrinsic+json": {
              "type": "string"
            }
          },
          "metadata": {},
          "execution_count": 8
        }
      ]
    },
    {
      "cell_type": "code",
      "source": [
        "words=[\"eating\", \"eats\", \"eaten\", \"writing\", \"writes\", \"programming\", \"programs\", \"history\", \"finally\", \"finalized\"]"
      ],
      "metadata": {
        "id": "ELsvlraUAWG6"
      },
      "execution_count": 9,
      "outputs": []
    },
    {
      "cell_type": "code",
      "source": [
        "for word in words:\n",
        "  # print(word, \"---->\", lemmatizer.lemmatize(word))\n",
        "  # print(word, \"---->\", lemmatizer.lemmatize(word, pos='n'))\n",
        "  print(word, \"---->\", lemmatizer.lemmatize(word, pos='v'))"
      ],
      "metadata": {
        "colab": {
          "base_uri": "https://localhost:8080/"
        },
        "id": "zXfTqsJWA7W3",
        "outputId": "dc5b4516-023f-4cf6-d5c3-64c43253ef48"
      },
      "execution_count": 12,
      "outputs": [
        {
          "output_type": "stream",
          "name": "stdout",
          "text": [
            "eating ----> eat\n",
            "eats ----> eat\n",
            "eaten ----> eat\n",
            "writing ----> write\n",
            "writes ----> write\n",
            "programming ----> program\n",
            "programs ----> program\n",
            "history ----> history\n",
            "finally ----> finally\n",
            "finalized ----> finalize\n"
          ]
        }
      ]
    },
    {
      "cell_type": "markdown",
      "source": [
        "### **Disadv:**\n",
        "- Takes a lot of time\n",
        "\n",
        "```\n",
        "# This is formatted as code\n",
        "```\n",
        "\n"
      ],
      "metadata": {
        "id": "4mX2kW8GBr2G"
      }
    },
    {
      "cell_type": "code",
      "source": [],
      "metadata": {
        "id": "bxosCKUiBIxr"
      },
      "execution_count": null,
      "outputs": []
    }
  ]
}